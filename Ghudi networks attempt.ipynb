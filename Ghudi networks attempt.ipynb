{
 "cells": [
  {
   "cell_type": "code",
   "execution_count": 1,
   "metadata": {},
   "outputs": [],
   "source": [
    "import networkx as nx\n",
    "import gudhi as gd\n",
    "import numpy as np\n",
    "import matplotlib.pyplot as plt"
   ]
  },
  {
   "cell_type": "code",
   "execution_count": 11,
   "metadata": {},
   "outputs": [],
   "source": [
    "#Applies lower star filtration to a networkx graph G. Returns gudhi Simplex Tree data structure.\n",
    "def toSimplexTree(G):\n",
    "    nodes = list(G.nodes)\n",
    "    edges = list(G.edges)\n",
    "    filtrations = list()\n",
    "    st = gd.SimplexTree()\n",
    "    [\n",
    "        st.insert(\n",
    "            [node],\n",
    "            filtration = node #assign filtration value equal to node value for each node\n",
    "        )\n",
    "        for node in nodes\n",
    "\n",
    "    ]\n",
    "\n",
    "    [\n",
    "        st.insert(\n",
    "            [edge[0], edge[1]],\n",
    "            filtration = (max(edge[0],edge[1])) #assign filtration value for each edge\n",
    "        )\n",
    "        for edge in edges\n",
    "    ]\n",
    "    return(st) "
   ]
  },
  {
   "cell_type": "code",
   "execution_count": 12,
   "metadata": {},
   "outputs": [
    {
     "name": "stdout",
     "output_type": "stream",
     "text": [
      "G: Petersen Graph\n",
      "G nodes: [0, 1, 2, 3, 4, 5, 6, 7, 8, 9]\n",
      "G edges: [(0, 1), (0, 4), (0, 5), (1, 2), (1, 6), (2, 3), (2, 7), (3, 4), (3, 8), (4, 9), (5, 7), (5, 8), (6, 8), (6, 9), (7, 9)]\n",
      "Petersen Graph filtration:\n",
      "([0], 0.0)\n",
      "([1], 1.0)\n",
      "([0, 1], 1.0)\n",
      "([2], 2.0)\n",
      "([1, 2], 2.0)\n",
      "([3], 3.0)\n",
      "([2, 3], 3.0)\n",
      "([4], 4.0)\n",
      "([0, 4], 4.0)\n",
      "([3, 4], 4.0)\n",
      "([5], 5.0)\n",
      "([0, 5], 5.0)\n",
      "([6], 6.0)\n",
      "([1, 6], 6.0)\n",
      "([7], 7.0)\n",
      "([2, 7], 7.0)\n",
      "([5, 7], 7.0)\n",
      "([8], 8.0)\n",
      "([3, 8], 8.0)\n",
      "([5, 8], 8.0)\n",
      "([6, 8], 8.0)\n",
      "([9], 9.0)\n",
      "([4, 9], 9.0)\n",
      "([6, 9], 9.0)\n",
      "([7, 9], 9.0)\n"
     ]
    },
    {
     "data": {
      "image/png": "[encoded data removed]",
      "text/plain": [
       "<Figure size 432x288 with 1 Axes>"
      ]
     },
     "metadata": {},
     "output_type": "display_data"
    }
   ],
   "source": [
    "G = nx.petersen_graph()\n",
    "print(f'''G: {G}\n",
    "G nodes: {G.nodes}\n",
    "G edges: {G.edges}''')\n",
    "PetersenST = toSimplexTree(G)\n",
    "\n",
    "L = PetersenST.get_filtration()\n",
    "print(\"Petersen Graph filtration:\")\n",
    "for splx in L:\n",
    "    print(splx)\n",
    " \n",
    "nx.draw(G)\n",
    "# plt.subplot(121)\n",
    "# nx.draw(G, with_labels=True, font_weight='bold')\n",
    "\n",
    "plt.subplot(122)\n",
    "nx.draw_shell(G, nlist=[range(5, 10), range(5)], with_labels=True, font_weight='bold')"
   ]
  },
  {
   "cell_type": "code",
   "execution_count": 13,
   "metadata": {
    "scrolled": false
   },
   "outputs": [
    {
     "name": "stdout",
     "output_type": "stream",
     "text": [
      "[(0, (0.0, inf))]\n"
     ]
    },
    {
     "name": "stderr",
     "output_type": "stream",
     "text": [
      "C:\\Users\\Sam\\anaconda3\\lib\\site-packages\\gudhi\\persistence_graphical_tools.py:369: UserWarning: Attempting to set identical left == right == 0.0 results in singular transformations; automatically expanding.\n",
      "  axes.axis([axis_start, axis_end, axis_start, infinity + delta/2])\n",
      "C:\\Users\\Sam\\anaconda3\\lib\\site-packages\\gudhi\\persistence_graphical_tools.py:369: UserWarning: Attempting to set identical bottom == top == 0.0 results in singular transformations; automatically expanding.\n",
      "  axes.axis([axis_start, axis_end, axis_start, infinity + delta/2])\n",
      "C:\\Users\\Sam\\anaconda3\\lib\\site-packages\\gudhi\\persistence_graphical_tools.py:210: UserWarning: Attempting to set identical left == right == 0.0 results in singular transformations; automatically expanding.\n",
      "  axes.axis([axis_start, infinity, 0, ind])\n"
     ]
    },
    {
     "data": {
      "image/png": "[encoded data removed]",
      "text/plain": [
       "<Figure size 432x288 with 1 Axes>"
      ]
     },
     "metadata": {
      "needs_background": "light"
     },
     "output_type": "display_data"
    },
    {
     "data": {
      "image/png": "[encoded data removed]",
      "text/plain": [
       "<Figure size 432x288 with 1 Axes>"
      ]
     },
     "metadata": {
      "needs_background": "light"
     },
     "output_type": "display_data"
    }
   ],
   "source": [
    "#To compute the persistence diagram of the filtered simplex\n",
    "diagST=PetersenST.persistence(homology_coeff_field=2)\n",
    "print(diagST)\n",
    "#To plot a persistence diagram - it doesn't go well\n",
    "gd.plot_persistence_diagram(diagST)\n",
    "gd.plot_persistence_barcode(diagST)\n",
    "plt.show()"
   ]
  },
  {
   "cell_type": "code",
   "execution_count": 14,
   "metadata": {
    "scrolled": true
   },
   "outputs": [
    {
     "name": "stdout",
     "output_type": "stream",
     "text": [
      "first simplex inserted!\n",
      "([0], 0.0)\n",
      "([1], 0.0)\n",
      "([0, 1], 0.0)\n",
      "([2], 0.0)\n",
      "([0, 2], 0.0)\n",
      "([1, 2], 0.0)\n",
      "([3], 0.0)\n",
      "([0, 3], 0.0)\n",
      "([1, 3], 0.0)\n",
      "([2, 3], 0.0)\n"
     ]
    }
   ],
   "source": [
    "#The following is an example I pulled from p2-3 of https://geometrica.saclay.inria.fr/team/Fred.Chazal/slides/TP1.pdf\n",
    "#It seems to produce better diagrams\n",
    "#Also try running this skipping the kernel below - still creates a meaningful diagram, and the simplex is now a graph\n",
    "\n",
    "st = gd.SimplexTree() #Create a simplex tree\n",
    "#Simplices can be inserted one by one\n",
    "#Vertices are indexed by integers\n",
    "if st.insert([0,1]):\n",
    "    print(\"first simplex inserted!\")\n",
    "st.insert([1,2])\n",
    "st.insert([2,3])\n",
    "st.insert([3,0])\n",
    "st.insert([0,2])\n",
    "st.insert([3,1])\n",
    "L = st.get_filtration() #Get a list with all the simplices\n",
    "#Notice that inserting an edge automatically insert its vertices (if they were\n",
    "#not already in the complex)\n",
    "for splx in L:\n",
    "    print(splx)"
   ]
  },
  {
   "cell_type": "code",
   "execution_count": 15,
   "metadata": {},
   "outputs": [
    {
     "name": "stdout",
     "output_type": "stream",
     "text": [
      "([0], 0.0)\n",
      "([1], 0.0)\n",
      "([0, 1], 0.0)\n",
      "([2], 0.0)\n",
      "([0, 2], 0.0)\n",
      "([1, 2], 0.0)\n",
      "([3], 0.0)\n",
      "([0, 3], 0.0)\n",
      "([1, 3], 0.0)\n",
      "([2, 3], 0.0)\n",
      "([0, 1, 2], 0.1)\n",
      "([1, 2, 3], 0.2)\n",
      "([0, 2, 3], 0.3)\n",
      "([0, 1, 3], 0.4)\n"
     ]
    }
   ],
   "source": [
    "#insert the 2-skeleton giving some filtration values to the faces\n",
    "st.insert([0,1,2],filtration=0.1)\n",
    "st.insert([1,2,3],filtration=0.2)\n",
    "st.insert([0,2,3],filtration=0.3)\n",
    "st.insert([0,1,3],filtration=0.4)\n",
    "#if you add a new simplex with a given filtration values, all its faces that\n",
    "#were not in the complex before are added with the same filtration value\n",
    "#st.insert([2,3,4],filtration=0.7)\n",
    "L = st.get_filtration()\n",
    "for splx in L:\n",
    "    print(splx)"
   ]
  },
  {
   "cell_type": "code",
   "execution_count": 16,
   "metadata": {
    "scrolled": false
   },
   "outputs": [
    {
     "name": "stdout",
     "output_type": "stream",
     "text": [
      "[(1, (0.0, 0.3)), (1, (0.0, 0.2)), (1, (0.0, 0.1)), (0, (0.0, inf))]\n"
     ]
    },
    {
     "data": {
      "image/png": "[encoded data removed]",
      "text/plain": [
       "<Figure size 432x288 with 1 Axes>"
      ]
     },
     "metadata": {
      "needs_background": "light"
     },
     "output_type": "display_data"
    },
    {
     "data": {
      "image/png": "[encoded data removed]",
      "text/plain": [
       "<Figure size 432x288 with 1 Axes>"
      ]
     },
     "metadata": {
      "needs_background": "light"
     },
     "output_type": "display_data"
    }
   ],
   "source": [
    "#To compute the persistence diagram of the filtered simplex\n",
    "diag=st.persistence()\n",
    "print(diag)\n",
    "#To plot a persistence diagram\n",
    "gd.plot_persistence_diagram(diag,legend=True)\n",
    "gd.plot_persistence_barcode(diag,legend=True)\n",
    "plt.show()"
   ]
  },
  {
   "cell_type": "code",
   "execution_count": 17,
   "metadata": {},
   "outputs": [
    {
     "name": "stdout",
     "output_type": "stream",
     "text": [
      "([0], 0.0)\n",
      "([1], 0.0)\n",
      "([2], 0.0)\n",
      "([3], 0.0)\n",
      "([0, 1], 1.0)\n",
      "([0, 2], 1.0)\n",
      "([1, 2], 1.0)\n",
      "([0, 3], 1.0)\n",
      "([1, 3], 1.0)\n",
      "([2, 3], 1.0)\n",
      "([0, 1, 2], 2.0)\n",
      "([0, 1, 3], 2.0)\n",
      "([0, 2, 3], 2.0)\n",
      "([1, 2, 3], 2.0)\n",
      "[(1, (1.0, 2.0)), (1, (1.0, 2.0)), (1, (1.0, 2.0)), (0, (0.0, inf)), (0, (0.0, 1.0)), (0, (0.0, 1.0)), (0, (0.0, 1.0))]\n"
     ]
    },
    {
     "data": {
      "text/plain": [
       "<matplotlib.axes._subplots.AxesSubplot at 0x20a1e6905c8>"
      ]
     },
     "execution_count": 17,
     "metadata": {},
     "output_type": "execute_result"
    },
    {
     "data": {
      "image/png": "[encoded data removed]",
      "text/plain": [
       "<Figure size 432x288 with 1 Axes>"
      ]
     },
     "metadata": {
      "needs_background": "light"
     },
     "output_type": "display_data"
    },
    {
     "data": {
      "image/png": "[encoded data removed]",
      "text/plain": [
       "<Figure size 432x288 with 1 Axes>"
      ]
     },
     "metadata": {
      "needs_background": "light"
     },
     "output_type": "display_data"
    }
   ],
   "source": [
    "st2 = gd.SimplexTree() #The new filtered complex\n",
    "L = st.get_filtration()\n",
    "\n",
    "for splx in L:\n",
    "#We assign to each simplex its dimension as filtration value\n",
    "    st2.insert(splx[0],filtration=len(splx[0])-1.0)\n",
    "\n",
    "L = st2.get_filtration()\n",
    "for splx in L:\n",
    "    print(splx)\n",
    "    \n",
    "#To compute the persistence diagram of the filtered simplex\n",
    "diag2=st2.persistence()\n",
    "print(diag2)\n",
    "\n",
    "#To plot a persistence diagram\n",
    "gd.plot_persistence_diagram(diag2)\n",
    "gd.plot_persistence_barcode(diag2)"
   ]
  },
  {
   "cell_type": "code",
   "execution_count": null,
   "metadata": {},
   "outputs": [],
   "source": []
  },
  {
   "cell_type": "code",
   "execution_count": null,
   "metadata": {},
   "outputs": [],
   "source": []
  }
 ],
 "metadata": {
  "kernelspec": {
   "display_name": "Python 3",
   "language": "python",
   "name": "python3"
  },
  "language_info": {
   "codemirror_mode": {
    "name": "ipython",
    "version": 3
   },
   "file_extension": ".py",
   "mimetype": "text/x-python",
   "name": "python",
   "nbconvert_exporter": "python",
   "pygments_lexer": "ipython3",
   "version": "3.7.6"
  }
 },
 "nbformat": 4,
 "nbformat_minor": 4
}
